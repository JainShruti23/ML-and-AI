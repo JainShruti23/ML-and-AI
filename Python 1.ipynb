{
 "cells": [
  {
   "cell_type": "markdown",
   "id": "2b8b1ee7",
   "metadata": {},
   "source": [
    "## print(objects, sep=' ', end='\\n', file = sys.stdout, flush =False)"
   ]
  },
  {
   "cell_type": "code",
   "execution_count": 1,
   "id": "17201b36",
   "metadata": {},
   "outputs": [
    {
     "name": "stdout",
     "output_type": "stream",
     "text": [
      "This is a sentence\n"
     ]
    }
   ],
   "source": [
    "print(\"This is a sentence\")  #Prints text inside quotes"
   ]
  },
  {
   "cell_type": "code",
   "execution_count": 2,
   "id": "31af7445",
   "metadata": {},
   "outputs": [
    {
     "name": "stdout",
     "output_type": "stream",
     "text": [
      "Single quotes used\n"
     ]
    }
   ],
   "source": [
    "print('Single quotes used')   #Single quotes can also be used"
   ]
  },
  {
   "cell_type": "code",
   "execution_count": 3,
   "id": "a698aa77",
   "metadata": {},
   "outputs": [
    {
     "name": "stdout",
     "output_type": "stream",
     "text": [
      "Using 3 quotes\n",
      "you can write text in different lines\n",
      "\n",
      "        Your whole format will remain same\n"
     ]
    }
   ],
   "source": [
    "print(\"\"\"Using 3 quotes\n",
    "you can write text in different lines\n",
    "\n",
    "        Your whole format will remain same\"\"\")"
   ]
  },
  {
   "cell_type": "code",
   "execution_count": 4,
   "id": "4c8b3087",
   "metadata": {},
   "outputs": [
    {
     "name": "stdout",
     "output_type": "stream",
     "text": [
      "a =  5 and b =  7\n"
     ]
    }
   ],
   "source": [
    "a,b= 5,7                           #Variable defined\n",
    "print(\"a = \", a,'and b = ',b)      #To print value of variable"
   ]
  },
  {
   "cell_type": "code",
   "execution_count": 5,
   "id": "403d3b5d",
   "metadata": {},
   "outputs": [
    {
     "name": "stdout",
     "output_type": "stream",
     "text": [
      "5&7\n"
     ]
    }
   ],
   "source": [
    "print(a , b, sep='&')      #by default sep=' '"
   ]
  },
  {
   "cell_type": "code",
   "execution_count": 6,
   "id": "5e496bfe",
   "metadata": {},
   "outputs": [
    {
     "name": "stdout",
     "output_type": "stream",
     "text": [
      "5\t7\n"
     ]
    }
   ],
   "source": [
    "print(a, end='\\t')        #\\t - tab, By default end='\\n'\n",
    "print(b)"
   ]
  },
  {
   "cell_type": "code",
   "execution_count": 7,
   "id": "9e0b9dbd",
   "metadata": {},
   "outputs": [],
   "source": [
    "sourcefile = open(file= 'xyz.txt', mode='w')\n",
    "print(\"This text will be copied in the file!\", file= sourcefile)  #by default file = sys.stdout which prints text on screen"
   ]
  },
  {
   "cell_type": "code",
   "execution_count": 8,
   "id": "170e7dd6",
   "metadata": {},
   "outputs": [],
   "source": [
    "sourcefile.close()"
   ]
  },
  {
   "cell_type": "code",
   "execution_count": 9,
   "id": "dad6f9e4",
   "metadata": {},
   "outputs": [
    {
     "name": "stdout",
     "output_type": "stream",
     "text": [
      "This text will be copied in the file!\n",
      "\n"
     ]
    }
   ],
   "source": [
    "sourcefile= open('xyz.txt', 'r')\n",
    "source_content= sourcefile.read()  #returns the data in file\n",
    "print(source_content)"
   ]
  },
  {
   "cell_type": "code",
   "execution_count": 10,
   "id": "2c7ef1ea",
   "metadata": {},
   "outputs": [
    {
     "name": "stdout",
     "output_type": "stream",
     "text": [
      "\n"
     ]
    }
   ],
   "source": [
    "sourcefile.flush()\n",
    "source_content = sourcefile.read()\n",
    "print(source_content)"
   ]
  },
  {
   "cell_type": "markdown",
   "id": "c12c92bc",
   "metadata": {},
   "source": [
    "#### To ensure that you get output as soon as print() is called, you also need to use the flush=True"
   ]
  },
  {
   "cell_type": "code",
   "execution_count": 11,
   "id": "26e8ac00",
   "metadata": {},
   "outputs": [
    {
     "name": "stdout",
     "output_type": "stream",
     "text": [
      "Counting ...\n",
      "There were 3 items\n"
     ]
    }
   ],
   "source": [
    "import time                           #time module is imported\n",
    "\n",
    "def count_items(items):               #new function is defined called count_items(items) where one parameter is passed\n",
    "    print('Counting ', end='', flush=True)  \n",
    "    num = 0\n",
    "    for item in items:\n",
    "        num += 1                     #increment in num with each loop\n",
    "        time.sleep(1)                #lag for 1 second\n",
    "        print('.', end='', flush=True)\n",
    "\n",
    "    print(f'\\nThere were {num} items')   #formatting using f-string\n",
    "    \n",
    "count_items(['item1','item2','item3'])  #calling the function"
   ]
  },
  {
   "cell_type": "markdown",
   "id": "e23bd36f",
   "metadata": {},
   "source": [
    "# Keywords"
   ]
  },
  {
   "cell_type": "code",
   "execution_count": 12,
   "id": "4abb8829",
   "metadata": {
    "scrolled": true
   },
   "outputs": [
    {
     "data": {
      "text/plain": [
       "['False',\n",
       " 'None',\n",
       " 'True',\n",
       " '__peg_parser__',\n",
       " 'and',\n",
       " 'as',\n",
       " 'assert',\n",
       " 'async',\n",
       " 'await',\n",
       " 'break',\n",
       " 'class',\n",
       " 'continue',\n",
       " 'def',\n",
       " 'del',\n",
       " 'elif',\n",
       " 'else',\n",
       " 'except',\n",
       " 'finally',\n",
       " 'for',\n",
       " 'from',\n",
       " 'global',\n",
       " 'if',\n",
       " 'import',\n",
       " 'in',\n",
       " 'is',\n",
       " 'lambda',\n",
       " 'nonlocal',\n",
       " 'not',\n",
       " 'or',\n",
       " 'pass',\n",
       " 'raise',\n",
       " 'return',\n",
       " 'try',\n",
       " 'while',\n",
       " 'with',\n",
       " 'yield']"
      ]
     },
     "execution_count": 12,
     "metadata": {},
     "output_type": "execute_result"
    }
   ],
   "source": [
    "import keyword\n",
    "keyword. kwlist  #prints all 33 keywords in list"
   ]
  },
  {
   "cell_type": "markdown",
   "id": "cdd094a6",
   "metadata": {},
   "source": [
    "# Identifiers/ Varaible Name: \n",
    "Starts with a letter A to Z or a to z or an underscore (_)\n",
    ", followed by zero or more letters, underscores and digits (0 to 9).\n",
    "They are case sensitive"
   ]
  },
  {
   "cell_type": "code",
   "execution_count": 13,
   "id": "5509ecb2",
   "metadata": {
    "scrolled": false
   },
   "outputs": [
    {
     "ename": "SyntaxError",
     "evalue": "invalid decimal literal (Temp/ipykernel_43824/1880962755.py, line 2)",
     "output_type": "error",
     "traceback": [
      "\u001b[1;36m  File \u001b[1;32m\"C:\\Users\\SHRUTI~1\\AppData\\Local\\Temp/ipykernel_43824/1880962755.py\"\u001b[1;36m, line \u001b[1;32m2\u001b[0m\n\u001b[1;33m    5_abc = 6           #invalid\u001b[0m\n\u001b[1;37m     ^\u001b[0m\n\u001b[1;31mSyntaxError\u001b[0m\u001b[1;31m:\u001b[0m invalid decimal literal\n"
     ]
    }
   ],
   "source": [
    "abc_5= 9            #valid\n",
    "5_abc = 6           #invalid"
   ]
  },
  {
   "cell_type": "markdown",
   "id": "b866f98f",
   "metadata": {},
   "source": [
    "# Comment\n",
    "Comment are statement, ignored by compiler and are use for description.\n",
    "In python there is only single line comment"
   ]
  },
  {
   "cell_type": "code",
   "execution_count": 14,
   "id": "a4b559c7",
   "metadata": {},
   "outputs": [],
   "source": [
    "# This is a single line comment"
   ]
  },
  {
   "cell_type": "markdown",
   "id": "445082bd",
   "metadata": {},
   "source": [
    "# Indentation"
   ]
  },
  {
   "cell_type": "code",
   "execution_count": 15,
   "id": "3832babe",
   "metadata": {
    "scrolled": true
   },
   "outputs": [
    {
     "name": "stdout",
     "output_type": "stream",
     "text": [
      "0 This is inside loop\n",
      "All indented lines comes in block\n",
      "1 This is inside loop\n",
      "All indented lines comes in block\n",
      "2 This is inside loop\n",
      "All indented lines comes in block\n",
      "3 This is inside loop\n",
      "All indented lines comes in block\n",
      "4 This is inside loop\n",
      "All indented lines comes in block\n",
      "This is outside loop\n"
     ]
    }
   ],
   "source": [
    "for i in range(5):                \n",
    "    print(i, \"This is inside loop\")\n",
    "    print(\"All indented lines comes in block\")    \n",
    "print(\"This is outside loop\")"
   ]
  },
  {
   "cell_type": "code",
   "execution_count": null,
   "id": "0114dcec",
   "metadata": {},
   "outputs": [],
   "source": []
  }
 ],
 "metadata": {
  "kernelspec": {
   "display_name": "Python 3 (ipykernel)",
   "language": "python",
   "name": "python3"
  },
  "language_info": {
   "codemirror_mode": {
    "name": "ipython",
    "version": 3
   },
   "file_extension": ".py",
   "mimetype": "text/x-python",
   "name": "python",
   "nbconvert_exporter": "python",
   "pygments_lexer": "ipython3",
   "version": "3.9.5"
  }
 },
 "nbformat": 4,
 "nbformat_minor": 5
}
