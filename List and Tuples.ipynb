{
 "cells": [
  {
   "cell_type": "markdown",
   "id": "734932e6",
   "metadata": {},
   "source": [
    "# List"
   ]
  },
  {
   "cell_type": "code",
   "execution_count": 1,
   "id": "48b26f51",
   "metadata": {},
   "outputs": [
    {
     "data": {
      "text/plain": [
       "7"
      ]
     },
     "execution_count": 1,
     "metadata": {},
     "output_type": "execute_result"
    }
   ],
   "source": [
    "l1 = ['Apple','Watermelon','Pineapple','Kiwi','Banana',5,7]\n",
    "len(l1)"
   ]
  },
  {
   "cell_type": "code",
   "execution_count": 2,
   "id": "ffc5fa26",
   "metadata": {},
   "outputs": [
    {
     "data": {
      "text/plain": [
       "list"
      ]
     },
     "execution_count": 2,
     "metadata": {},
     "output_type": "execute_result"
    }
   ],
   "source": [
    "type(l1)"
   ]
  },
  {
   "cell_type": "markdown",
   "id": "ff20c149",
   "metadata": {},
   "source": [
    "### Basic Operations"
   ]
  },
  {
   "cell_type": "code",
   "execution_count": 3,
   "id": "847c87e5",
   "metadata": {},
   "outputs": [
    {
     "data": {
      "text/plain": [
       "[1, 2, 3, 4, 5, 6]"
      ]
     },
     "execution_count": 3,
     "metadata": {},
     "output_type": "execute_result"
    }
   ],
   "source": [
    "[1, 2, 3] + [4, 5, 6]       #Concatenation"
   ]
  },
  {
   "cell_type": "code",
   "execution_count": 4,
   "id": "e130dc56",
   "metadata": {
    "scrolled": true
   },
   "outputs": [
    {
     "data": {
      "text/plain": [
       "['Hi!', 'Hi!', 'Hi!', 'Hi!']"
      ]
     },
     "execution_count": 4,
     "metadata": {},
     "output_type": "execute_result"
    }
   ],
   "source": [
    "['Hi!'] * 4           #Repetation"
   ]
  },
  {
   "cell_type": "code",
   "execution_count": 5,
   "id": "b983d200",
   "metadata": {
    "scrolled": true
   },
   "outputs": [
    {
     "data": {
      "text/plain": [
       "True"
      ]
     },
     "execution_count": 5,
     "metadata": {},
     "output_type": "execute_result"
    }
   ],
   "source": [
    "3 in [1, 2, 3]      #Membership"
   ]
  },
  {
   "cell_type": "code",
   "execution_count": 6,
   "id": "e6944bcb",
   "metadata": {},
   "outputs": [
    {
     "name": "stdout",
     "output_type": "stream",
     "text": [
      "1\n",
      "2\n",
      "3\n"
     ]
    }
   ],
   "source": [
    "for x in [1, 2, 3]:         #iteration\n",
    "    print(x)"
   ]
  },
  {
   "cell_type": "markdown",
   "id": "7f0e82a8",
   "metadata": {},
   "source": [
    "### Accessing  Values in Lists"
   ]
  },
  {
   "cell_type": "code",
   "execution_count": 7,
   "id": "c53b5992",
   "metadata": {
    "scrolled": true
   },
   "outputs": [
    {
     "data": {
      "text/plain": [
       "'Watermelon'"
      ]
     },
     "execution_count": 7,
     "metadata": {},
     "output_type": "execute_result"
    }
   ],
   "source": [
    "l1[1]"
   ]
  },
  {
   "cell_type": "code",
   "execution_count": 8,
   "id": "5ce6b050",
   "metadata": {},
   "outputs": [
    {
     "data": {
      "text/plain": [
       "5"
      ]
     },
     "execution_count": 8,
     "metadata": {},
     "output_type": "execute_result"
    }
   ],
   "source": [
    "l1[-2]"
   ]
  },
  {
   "cell_type": "code",
   "execution_count": 9,
   "id": "44b3a3d6",
   "metadata": {},
   "outputs": [
    {
     "data": {
      "text/plain": [
       "['Watermelon', 'Pineapple', 'Kiwi', 'Banana', 5, 7]"
      ]
     },
     "execution_count": 9,
     "metadata": {},
     "output_type": "execute_result"
    }
   ],
   "source": [
    "l1[1:]"
   ]
  },
  {
   "cell_type": "markdown",
   "id": "dd9f2374",
   "metadata": {},
   "source": [
    "### Updating List"
   ]
  },
  {
   "cell_type": "code",
   "execution_count": 10,
   "id": "e2eedb23",
   "metadata": {},
   "outputs": [
    {
     "data": {
      "text/plain": [
       "['Apple', 'Watermelon', 'Pineapple', 'Kiwi', 'Banana', 5, 7, ['Papaya']]"
      ]
     },
     "execution_count": 10,
     "metadata": {},
     "output_type": "execute_result"
    }
   ],
   "source": [
    "l1.append([\"Papaya\"])     #append an object\n",
    "l1"
   ]
  },
  {
   "cell_type": "code",
   "execution_count": 11,
   "id": "10cf0db2",
   "metadata": {},
   "outputs": [
    {
     "data": {
      "text/plain": [
       "['Apple', 'Watermelon', 'Pineapple', 'Kiwi', 'Banana', 5, 7, ['Papaya']]"
      ]
     },
     "execution_count": 11,
     "metadata": {},
     "output_type": "execute_result"
    }
   ],
   "source": [
    "l1"
   ]
  },
  {
   "cell_type": "code",
   "execution_count": 12,
   "id": "17adae7e",
   "metadata": {},
   "outputs": [
    {
     "data": {
      "text/plain": [
       "['Papaya']"
      ]
     },
     "execution_count": 12,
     "metadata": {},
     "output_type": "execute_result"
    }
   ],
   "source": [
    "l1.pop()"
   ]
  },
  {
   "cell_type": "code",
   "execution_count": 13,
   "id": "b3d1e443",
   "metadata": {},
   "outputs": [],
   "source": [
    "l1.insert(6,6)  #index:object"
   ]
  },
  {
   "cell_type": "code",
   "execution_count": 14,
   "id": "0611c913",
   "metadata": {},
   "outputs": [
    {
     "data": {
      "text/plain": [
       "['Apple',\n",
       " 'Watermelon',\n",
       " 'Pineapple',\n",
       " 'Kiwi',\n",
       " 'Banana',\n",
       " 5,\n",
       " 6,\n",
       " 7,\n",
       " 'Orange',\n",
       " 'Yellow',\n",
       " 'Black',\n",
       " 'Purple',\n",
       " 'Red',\n",
       " 'Yellow']"
      ]
     },
     "execution_count": 14,
     "metadata": {},
     "output_type": "execute_result"
    }
   ],
   "source": [
    "l2=list(('Orange','Yellow','Black','Purple','Red','Yellow'))  #list-constructor\n",
    "l1.extend(l2)     #append a sequence\n",
    "l1"
   ]
  },
  {
   "cell_type": "markdown",
   "id": "172ac092",
   "metadata": {},
   "source": [
    "### Slicing, and Matrixes"
   ]
  },
  {
   "cell_type": "code",
   "execution_count": 15,
   "id": "0e444d1b",
   "metadata": {},
   "outputs": [
    {
     "data": {
      "text/plain": [
       "['Kiwi', 'Pineapple', 'Watermelon']"
      ]
     },
     "execution_count": 15,
     "metadata": {},
     "output_type": "execute_result"
    }
   ],
   "source": [
    "l1[3:0:-1]      #start:stop:step (stop value is not included)"
   ]
  },
  {
   "cell_type": "markdown",
   "id": "61f4f3e3",
   "metadata": {},
   "source": [
    "### Built-in List functions"
   ]
  },
  {
   "cell_type": "code",
   "execution_count": 16,
   "id": "a220881f",
   "metadata": {},
   "outputs": [
    {
     "data": {
      "text/plain": [
       "'Yellow'"
      ]
     },
     "execution_count": 16,
     "metadata": {},
     "output_type": "execute_result"
    }
   ],
   "source": [
    "max(l2)           #only works when all data is of same type"
   ]
  },
  {
   "cell_type": "code",
   "execution_count": 17,
   "id": "ee78d5c6",
   "metadata": {},
   "outputs": [
    {
     "data": {
      "text/plain": [
       "'Black'"
      ]
     },
     "execution_count": 17,
     "metadata": {},
     "output_type": "execute_result"
    }
   ],
   "source": [
    "min(l2)"
   ]
  },
  {
   "cell_type": "code",
   "execution_count": 18,
   "id": "04e3d45d",
   "metadata": {},
   "outputs": [
    {
     "data": {
      "text/plain": [
       "2"
      ]
     },
     "execution_count": 18,
     "metadata": {},
     "output_type": "execute_result"
    }
   ],
   "source": [
    "l1.count('Yellow')   #Returns count of how many times obj occurs in list"
   ]
  },
  {
   "cell_type": "code",
   "execution_count": 19,
   "id": "0e91bf99",
   "metadata": {},
   "outputs": [
    {
     "data": {
      "text/plain": [
       "10"
      ]
     },
     "execution_count": 19,
     "metadata": {},
     "output_type": "execute_result"
    }
   ],
   "source": [
    "l1.index('Black')"
   ]
  },
  {
   "cell_type": "code",
   "execution_count": 20,
   "id": "ce82d4fa",
   "metadata": {},
   "outputs": [
    {
     "data": {
      "text/plain": [
       "['Yellow', 'Yellow', 'Red', 'Purple', 'Orange', 'Black']"
      ]
     },
     "execution_count": 20,
     "metadata": {},
     "output_type": "execute_result"
    }
   ],
   "source": [
    "l2.sort(reverse=1)      #Sorts objects of list,in reverse(descending order)\n",
    "l2"
   ]
  },
  {
   "cell_type": "markdown",
   "id": "5e05e784",
   "metadata": {},
   "source": [
    "# Tuple\n",
    "A tuple is a collection of objects which ordered and immutable"
   ]
  },
  {
   "cell_type": "markdown",
   "id": "b20cc0fc",
   "metadata": {},
   "source": [
    "### Defining Tuples"
   ]
  },
  {
   "cell_type": "code",
   "execution_count": 21,
   "id": "5383e6fd",
   "metadata": {},
   "outputs": [],
   "source": [
    "tup1 = ('physics', 'chemistry', 1997, 2000)\n",
    "tup2 = (1, 2, 3, 4, 5 )\n",
    "tup3 = \"a\", \"b\", \"c\", \"d\""
   ]
  },
  {
   "cell_type": "code",
   "execution_count": 22,
   "id": "101ba067",
   "metadata": {},
   "outputs": [
    {
     "name": "stdout",
     "output_type": "stream",
     "text": [
      "('physics', 'chemistry', 1997, 2000) (1, 2, 3, 4, 5) ('a', 'b', 'c', 'd')\n"
     ]
    }
   ],
   "source": [
    "print(tup1, tup2, tup3)"
   ]
  },
  {
   "cell_type": "code",
   "execution_count": 23,
   "id": "fb3a618e",
   "metadata": {},
   "outputs": [],
   "source": [
    "tup1 = (50,)         #value you have to include a comma, even though there is only one value"
   ]
  },
  {
   "cell_type": "markdown",
   "id": "f5cdd35a",
   "metadata": {},
   "source": [
    "### Accessing Values"
   ]
  },
  {
   "cell_type": "code",
   "execution_count": 24,
   "id": "d3580a62",
   "metadata": {},
   "outputs": [
    {
     "data": {
      "text/plain": [
       "50"
      ]
     },
     "execution_count": 24,
     "metadata": {},
     "output_type": "execute_result"
    }
   ],
   "source": [
    "tup1[0]"
   ]
  },
  {
   "cell_type": "code",
   "execution_count": 25,
   "id": "3bd107b9",
   "metadata": {},
   "outputs": [
    {
     "data": {
      "text/plain": [
       "(2, 3, 4, 5)"
      ]
     },
     "execution_count": 25,
     "metadata": {},
     "output_type": "execute_result"
    }
   ],
   "source": [
    "tup2[1:5]"
   ]
  },
  {
   "cell_type": "markdown",
   "id": "b79b97bc",
   "metadata": {},
   "source": [
    "### Updating Tuples"
   ]
  },
  {
   "cell_type": "code",
   "execution_count": 26,
   "id": "e630b099",
   "metadata": {},
   "outputs": [
    {
     "data": {
      "text/plain": [
       "(50, 1, 2, 3, 4, 5)"
      ]
     },
     "execution_count": 26,
     "metadata": {},
     "output_type": "execute_result"
    }
   ],
   "source": [
    "tup4 = tup1 + tup2\n",
    "tup4"
   ]
  },
  {
   "cell_type": "code",
   "execution_count": 27,
   "id": "c5c7e91a",
   "metadata": {},
   "outputs": [
    {
     "ename": "NameError",
     "evalue": "name 'tup4' is not defined",
     "output_type": "error",
     "traceback": [
      "\u001b[1;31m---------------------------------------------------------------------------\u001b[0m",
      "\u001b[1;31mNameError\u001b[0m                                 Traceback (most recent call last)",
      "\u001b[1;32mC:\\Users\\SHRUTI~1\\AppData\\Local\\Temp/ipykernel_4792/4189811581.py\u001b[0m in \u001b[0;36m<module>\u001b[1;34m\u001b[0m\n\u001b[0;32m      1\u001b[0m \u001b[1;32mdel\u001b[0m \u001b[0mtup4\u001b[0m\u001b[1;33m\u001b[0m\u001b[1;33m\u001b[0m\u001b[0m\n\u001b[1;32m----> 2\u001b[1;33m \u001b[0mtup4\u001b[0m       \u001b[1;31m#explicitly remove an entire tuple\u001b[0m\u001b[1;33m\u001b[0m\u001b[1;33m\u001b[0m\u001b[0m\n\u001b[0m",
      "\u001b[1;31mNameError\u001b[0m: name 'tup4' is not defined"
     ]
    }
   ],
   "source": [
    "del tup4\n",
    "tup4       #explicitly remove an entire tuple"
   ]
  },
  {
   "cell_type": "markdown",
   "id": "018c1613",
   "metadata": {},
   "source": [
    "### Indexing, Slicing, and Matrixes"
   ]
  },
  {
   "cell_type": "code",
   "execution_count": 28,
   "id": "1caf117a",
   "metadata": {},
   "outputs": [
    {
     "data": {
      "text/plain": [
       "3"
      ]
     },
     "execution_count": 28,
     "metadata": {},
     "output_type": "execute_result"
    }
   ],
   "source": [
    "tup2[2]"
   ]
  },
  {
   "cell_type": "code",
   "execution_count": 29,
   "id": "a8e7252d",
   "metadata": {},
   "outputs": [
    {
     "data": {
      "text/plain": [
       "4"
      ]
     },
     "execution_count": 29,
     "metadata": {},
     "output_type": "execute_result"
    }
   ],
   "source": [
    "tup2[-2]"
   ]
  },
  {
   "cell_type": "code",
   "execution_count": 30,
   "id": "16e3fec8",
   "metadata": {},
   "outputs": [
    {
     "data": {
      "text/plain": [
       "(2, 3, 4, 5)"
      ]
     },
     "execution_count": 30,
     "metadata": {},
     "output_type": "execute_result"
    }
   ],
   "source": [
    "tup2[1:]"
   ]
  },
  {
   "cell_type": "code",
   "execution_count": 31,
   "id": "1922474d",
   "metadata": {},
   "outputs": [
    {
     "data": {
      "text/plain": [
       "(4, 3, 2)"
      ]
     },
     "execution_count": 31,
     "metadata": {},
     "output_type": "execute_result"
    }
   ],
   "source": [
    "tup2[3:0:-1]      #start:stop:step"
   ]
  },
  {
   "cell_type": "markdown",
   "id": "ac6486ac",
   "metadata": {},
   "source": [
    "### No Enclosing Delimiters\n",
    "Any set of multiple objects, comma-separated, written without identifying symbols, i.e., brackets for lists, parentheses for tuples, etc., default to tuples"
   ]
  },
  {
   "cell_type": "code",
   "execution_count": 32,
   "id": "6a298ab0",
   "metadata": {},
   "outputs": [
    {
     "data": {
      "text/plain": [
       "('abc', -4.24e+93, (18+6.6j), 'xyz')"
      ]
     },
     "execution_count": 32,
     "metadata": {},
     "output_type": "execute_result"
    }
   ],
   "source": [
    "'abc', -4.24e93, 18+6.6j, 'xyz'"
   ]
  },
  {
   "cell_type": "markdown",
   "id": "cbfc130f",
   "metadata": {},
   "source": [
    "### Built-in Tuple Functions"
   ]
  },
  {
   "cell_type": "code",
   "execution_count": 33,
   "id": "b3718acd",
   "metadata": {},
   "outputs": [
    {
     "data": {
      "text/plain": [
       "5"
      ]
     },
     "execution_count": 33,
     "metadata": {},
     "output_type": "execute_result"
    }
   ],
   "source": [
    "len(tup2)"
   ]
  },
  {
   "cell_type": "code",
   "execution_count": 34,
   "id": "a11b8994",
   "metadata": {},
   "outputs": [
    {
     "data": {
      "text/plain": [
       "5"
      ]
     },
     "execution_count": 34,
     "metadata": {},
     "output_type": "execute_result"
    }
   ],
   "source": [
    "max(tup2)"
   ]
  },
  {
   "cell_type": "code",
   "execution_count": 35,
   "id": "14ab8f3d",
   "metadata": {},
   "outputs": [
    {
     "data": {
      "text/plain": [
       "1"
      ]
     },
     "execution_count": 35,
     "metadata": {},
     "output_type": "execute_result"
    }
   ],
   "source": [
    "min(tup2)"
   ]
  }
 ],
 "metadata": {
  "kernelspec": {
   "display_name": "Python 3 (ipykernel)",
   "language": "python",
   "name": "python3"
  },
  "language_info": {
   "codemirror_mode": {
    "name": "ipython",
    "version": 3
   },
   "file_extension": ".py",
   "mimetype": "text/x-python",
   "name": "python",
   "nbconvert_exporter": "python",
   "pygments_lexer": "ipython3",
   "version": "3.9.5"
  }
 },
 "nbformat": 4,
 "nbformat_minor": 5
}
